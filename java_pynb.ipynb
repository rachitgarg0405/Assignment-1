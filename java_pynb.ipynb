{
  "nbformat": 4,
  "nbformat_minor": 0,
  "metadata": {
    "colab": {
      "provenance": [],
      "include_colab_link": true
    },
    "kernelspec": {
      "name": "python3",
      "display_name": "Python 3"
    },
    "language_info": {
      "name": "python"
    }
  },
  "cells": [
    {
      "cell_type": "markdown",
      "metadata": {
        "id": "view-in-github",
        "colab_type": "text"
      },
      "source": [
        "<a href=\"https://colab.research.google.com/github/rachitgarg0405/Assignment-1/blob/main/java_pynb.ipynb\" target=\"_parent\"><img src=\"https://colab.research.google.com/assets/colab-badge.svg\" alt=\"Open In Colab\"/></a>"
      ]
    },
    {
      "cell_type": "code",
      "source": [
        "!curl -O https://raw.githubusercontent.com/deepjavalibrary/d2l-java/master/tools/colab_build.sh && bash colab_build.sh"
      ],
      "metadata": {
        "colab": {
          "base_uri": "https://localhost:8080/"
        },
        "id": "-ZTST8rhw7l8",
        "outputId": "615fbd76-d337-4475-c817-1092d33108c5"
      },
      "execution_count": null,
      "outputs": [
        {
          "output_type": "stream",
          "name": "stdout",
          "text": [
            "  % Total    % Received % Xferd  Average Speed   Time    Time     Time  Current\n",
            "                                 Dload  Upload   Total   Spent    Left  Speed\n",
            "\r  0     0    0     0    0     0      0      0 --:--:-- --:--:-- --:--:--     0\r100   520  100   520    0     0   3271      0 --:--:-- --:--:-- --:--:--  3291\n",
            "Update environment...\n",
            "Install Java...\n",
            "Install Jupyter java kernel...\n"
          ]
        }
      ]
    },
    {
      "cell_type": "code",
      "source": [
        "import os\n",
        "def install_java():\n",
        " !apt-get install -y openjdk-8-jdk-headless -qq > /dev/null\n",
        " os.environ[\"JAVA_HOME\"] = \"/usr/lib/jvm/java-8-openjdk-amd64\"\n",
        " !java -version\n",
        "install_java()"
      ],
      "metadata": {
        "colab": {
          "base_uri": "https://localhost:8080/"
        },
        "id": "zDnCfPFrxtn2",
        "outputId": "3c9d143d-aa90-422f-800d-7ce0bd842240"
      },
      "execution_count": null,
      "outputs": [
        {
          "output_type": "stream",
          "name": "stdout",
          "text": [
            "openjdk version \"11.0.28\" 2025-07-15\n",
            "OpenJDK Runtime Environment (build 11.0.28+6-post-Ubuntu-1ubuntu122.04.1)\n",
            "OpenJDK 64-Bit Server VM (build 11.0.28+6-post-Ubuntu-1ubuntu122.04.1, mixed mode, sharing)\n"
          ]
        }
      ]
    },
    {
      "cell_type": "code",
      "source": [
        "%%writefile MINMAX.java\n",
        "// Java Code to implement the above idea\n",
        "\n",
        "class MINMAX {\n",
        "\n",
        "    // Function to find the minimum and maxximum of the\n",
        "    // array\n",
        "    static int[] findMinMax(int[] arr, int n)\n",
        "    {\n",
        "        int mini = arr[0];\n",
        "        int maxi = arr[0];\n",
        "\n",
        "        for (int i = 0; i < n; i++) {\n",
        "            if (arr[i] < mini) {\n",
        "                mini = arr[i];\n",
        "            }\n",
        "            else if (arr[i] > maxi) {\n",
        "                maxi = arr[i];\n",
        "            }\n",
        "        }\n",
        "        int[] ans = new int[2];\n",
        "        ans[0] = mini;\n",
        "        ans[1] = maxi;\n",
        "        return ans;\n",
        "    }\n",
        "\n",
        "    public static void main(String[] args)\n",
        "    {\n",
        "        int[] arr = { 1, 2, 3, 4, 5 };\n",
        "          int N = arr.length;\n",
        "\n",
        "        // Function call\n",
        "        int[] ans = findMinMax(arr, N);\n",
        "        System.out.print(\"Maximum is: \" + ans[1]);\n",
        "        System.out.print(\"\\n\"\n",
        "                         + \"Minimum is: \" + ans[0]);\n",
        "    }\n",
        "}\n",
        "\n",
        "// This code is contributed by lokesh(lokeshmvs21)."
      ],
      "metadata": {
        "colab": {
          "base_uri": "https://localhost:8080/"
        },
        "id": "RPHMdePKyZgp",
        "outputId": "5f656f26-005c-41e2-bb02-9aab7ebe31f8"
      },
      "execution_count": null,
      "outputs": [
        {
          "output_type": "stream",
          "name": "stdout",
          "text": [
            "Writing GFG.java\n"
          ]
        }
      ]
    },
    {
      "cell_type": "code",
      "source": [
        "!javac MINMAX.java\n",
        "!java MINMAX\n"
      ],
      "metadata": {
        "colab": {
          "base_uri": "https://localhost:8080/"
        },
        "id": "T-josUlnydJP",
        "outputId": "49ed02b4-f4d6-4bae-b0a8-680aa2231360"
      },
      "execution_count": null,
      "outputs": [
        {
          "output_type": "stream",
          "name": "stdout",
          "text": [
            "Maximum is: 5\n",
            "Minimum is: 1"
          ]
        }
      ]
    },
    {
      "cell_type": "code",
      "source": [
        "%%writefile ODDEVEN.java\n",
        "public class ODDEVEN {\n",
        "\n",
        "    public static boolean isEven(int n)\n",
        "    {\n",
        "        // finding remainder of n\n",
        "        int rem = n % 2;\n",
        "        if(rem == 0){\n",
        "            return true;\n",
        "        }\n",
        "        else{\n",
        "            return false;\n",
        "        }\n",
        "    }\n",
        "\n",
        "    // Driver Code\n",
        "    public static void main(String[] args)\n",
        "    {\n",
        "        int n = 15;\n",
        "        if (isEven(n) == true)\n",
        "            System.out.print(\"true\");\n",
        "        else\n",
        "            System.out.print(\"false\");\n",
        "    }\n",
        "}"
      ],
      "metadata": {
        "colab": {
          "base_uri": "https://localhost:8080/"
        },
        "id": "ObAfmsScz1rY",
        "outputId": "167f199a-5fbf-4643-e493-c9bc355e21c1"
      },
      "execution_count": null,
      "outputs": [
        {
          "output_type": "stream",
          "name": "stdout",
          "text": [
            "Overwriting ODDEVEN.java\n"
          ]
        }
      ]
    },
    {
      "cell_type": "code",
      "source": [
        "!javac ODDEVEN.java\n",
        "!java ODDEVEN"
      ],
      "metadata": {
        "colab": {
          "base_uri": "https://localhost:8080/"
        },
        "id": "No7NZD-c0mYc",
        "outputId": "5cec9bc5-3aa7-49ae-e641-6e60f6cc6188"
      },
      "execution_count": null,
      "outputs": [
        {
          "output_type": "stream",
          "name": "stdout",
          "text": [
            "false"
          ]
        }
      ]
    },
    {
      "cell_type": "code",
      "source": [
        "%%writefile biggestofthree.java\n",
        "// Java Program to Find the Biggest of 3 Numbers\n",
        "\n",
        "// Importing generic Classes/Files\n",
        "import java.io.*;\n",
        "\n",
        "class biggestofthree {\n",
        "\n",
        "    // Function to find the biggest of three numbers\n",
        "    static int biggestOfThree(int x, int y, int z)\n",
        "    {\n",
        "\n",
        "        return z > (x > y ? x : y) ? z : ((x > y) ? x : y);\n",
        "    }\n",
        "\n",
        "    // Main driver function\n",
        "    public static void main(String[] args)\n",
        "    {\n",
        "\n",
        "        // Declaring variables for 3 numbers\n",
        "        int a, b, c;\n",
        "\n",
        "        // Variable holding the largest number\n",
        "        int largest;\n",
        "        a = 5;\n",
        "        b = 10;\n",
        "        c = 3;\n",
        "        // Calling the above function in main\n",
        "        largest = biggestOfThree(a, b, c);\n",
        "\n",
        "        // Printing the largest number\n",
        "        System.out.println(largest\n",
        "                           + \" is the largest number.\");\n",
        "    }\n",
        "}"
      ],
      "metadata": {
        "colab": {
          "base_uri": "https://localhost:8080/"
        },
        "id": "dkKi1t9g1yhY",
        "outputId": "d33436a4-1bef-469b-ddb6-ef8b93303a5f"
      },
      "execution_count": null,
      "outputs": [
        {
          "output_type": "stream",
          "name": "stdout",
          "text": [
            "Overwriting biggestofthree.java\n"
          ]
        }
      ]
    },
    {
      "cell_type": "code",
      "source": [
        "!javac biggestofthree.java\n",
        "!java biggestofthree"
      ],
      "metadata": {
        "colab": {
          "base_uri": "https://localhost:8080/"
        },
        "id": "ODOeuzke1yYL",
        "outputId": "bde375c3-16ac-4a6c-f1de-ff8aaef83bee"
      },
      "execution_count": null,
      "outputs": [
        {
          "output_type": "stream",
          "name": "stdout",
          "text": [
            "10 is the largest number.\n"
          ]
        }
      ]
    },
    {
      "cell_type": "code",
      "source": [
        "%%writefile factorial.java\n",
        "// Java program to find factorial of given number\n",
        "class factorial {\n",
        "\n",
        "    // Method to find factorial of the given number\n",
        "    static int factorial(int n)\n",
        "    {\n",
        "        int res = 1;\n",
        "        for (int i = 2; i <= n; i++)\n",
        "            res *= i;\n",
        "        return res;\n",
        "    }\n",
        "\n",
        "    // Driver method\n",
        "    public static void main(String[] args)\n",
        "    {\n",
        "        int n = 10;\n",
        "        System.out.println(\"Factorial of \" + n + \" is \"\n",
        "                           + factorial(10));\n",
        "    }\n",
        "}"
      ],
      "metadata": {
        "colab": {
          "base_uri": "https://localhost:8080/"
        },
        "id": "l0YhqXIy2elB",
        "outputId": "95aad730-745e-4828-ed64-1da01a97a26f"
      },
      "execution_count": null,
      "outputs": [
        {
          "output_type": "stream",
          "name": "stdout",
          "text": [
            "Overwriting factorial.java\n"
          ]
        }
      ]
    },
    {
      "cell_type": "code",
      "source": [
        "!javac factorial.java\n",
        "!java factorial"
      ],
      "metadata": {
        "colab": {
          "base_uri": "https://localhost:8080/"
        },
        "id": "8OM7c_lU32F4",
        "outputId": "396d38c0-1fe2-4874-d556-8cf103cda0fd"
      },
      "execution_count": null,
      "outputs": [
        {
          "output_type": "stream",
          "name": "stdout",
          "text": [
            "Factorial of 10 is 120\n"
          ]
        }
      ]
    },
    {
      "cell_type": "code",
      "source": [
        "%%writefile isPalindrome.java\n",
        "// Java Program to Check if a\n",
        "// String is a Palindrome\n",
        "import java.io.*;\n",
        "\n",
        "public class isPalindrome\n",
        "{\n",
        "\n",
        "    // Method to check if a string is a palindrome\n",
        "    public static boolean isPalindrome(String s) {\n",
        "\n",
        "        // Convert string to lowercase for\n",
        "        // case-insensitive comparison\n",
        "        s = s.toLowerCase();\n",
        "\n",
        "        // Reverse the string\n",
        "        String rev = \"\";\n",
        "        for (int i = s.length() - 1; i >= 0; i--) {\n",
        "            rev = rev + s.charAt(i);\n",
        "        }\n",
        "\n",
        "        // Compare the original string with\n",
        "        // the reversed string\n",
        "        return s.equals(rev);\n",
        "    }\n",
        "\n",
        "    public static void main(String[] args) {\n",
        "\n",
        "        // Input string\n",
        "        String s = \"level\";\n",
        "\n",
        "        // Check if the string is a palindrome\n",
        "        boolean res = isPalindrome(s);\n",
        "\n",
        "        // Print the result with enhanced output\n",
        "        if (res) {\n",
        "            System.out.println('\"' + s + '\"' + \" is a palindrome.\");\n",
        "        } else {\n",
        "            System.out.println('\"' + s + '\"' + \" is not a palindrome.\");\n",
        "        }\n",
        "        }\n",
        "    }"
      ],
      "metadata": {
        "colab": {
          "base_uri": "https://localhost:8080/"
        },
        "id": "ibkHOYia6E5r",
        "outputId": "9b2afc45-604a-418d-b8a6-cfd0fe756d3b"
      },
      "execution_count": null,
      "outputs": [
        {
          "output_type": "stream",
          "name": "stdout",
          "text": [
            "Writing isPalindrome.java\n"
          ]
        }
      ]
    },
    {
      "cell_type": "code",
      "source": [
        "!javac isPalindrome.java\n",
        "!java isPalindrome"
      ],
      "metadata": {
        "colab": {
          "base_uri": "https://localhost:8080/"
        },
        "id": "P3OaPj5x6EyM",
        "outputId": "e0d03cf2-fc7e-4774-c3ea-9826bfdf951e"
      },
      "execution_count": null,
      "outputs": [
        {
          "output_type": "stream",
          "name": "stdout",
          "text": [
            "\"level\" is a palindrome.\n"
          ]
        }
      ]
    },
    {
      "cell_type": "code",
      "source": [
        "%%writefile Fibonacci.java\n",
        "// Fibonacci series program in Java\n",
        "// using iterative approach\n",
        "import java.io.*;\n",
        "\n",
        "class Fibonacci\n",
        "{\n",
        "    // Function to print N Fibonacci Number\n",
        "    static void Fibonacci(int N)\n",
        "    {\n",
        "        int n1 = 0, n2 = 1;\n",
        "\n",
        "        for (int i = 0; i < N; i++) {\n",
        "            // Print the number\n",
        "            System.out.print(n1 + \" \");\n",
        "\n",
        "            // Swap\n",
        "            int n3 = n2 + n1;\n",
        "            n1 = n2;\n",
        "            n2 = n3;\n",
        "        }\n",
        "    }\n",
        "\n",
        "    // Driver Code\n",
        "    public static void main(String args[])\n",
        "    {\n",
        "        // Given Number N\n",
        "        int N = 10;\n",
        "\n",
        "        // Function Call\n",
        "        Fibonacci(N);\n",
        "    }\n",
        "}"
      ],
      "metadata": {
        "colab": {
          "base_uri": "https://localhost:8080/"
        },
        "id": "V0VxjUW06pYR",
        "outputId": "04e05074-8c7e-438f-93f0-2025b6fe9db5"
      },
      "execution_count": null,
      "outputs": [
        {
          "output_type": "stream",
          "name": "stdout",
          "text": [
            "Writing Fibonacci.java\n"
          ]
        }
      ]
    },
    {
      "cell_type": "code",
      "source": [
        "!javac Fibonacci.java\n",
        "!java Fibonacci"
      ],
      "metadata": {
        "colab": {
          "base_uri": "https://localhost:8080/"
        },
        "id": "-dXT4tcL6pU0",
        "outputId": "f0a0baf2-98f0-4d3e-bf35-4405fa2d2a99"
      },
      "execution_count": null,
      "outputs": [
        {
          "output_type": "stream",
          "name": "stdout",
          "text": [
            "0 1 1 2 3 5 8 13 21 34 "
          ]
        }
      ]
    },
    {
      "cell_type": "code",
      "source": [
        "%%writefile isPrime.java\n",
        "class isPrime {\n",
        "\n",
        "    static boolean isPrime(int n) {\n",
        "        if (n <= 1)\n",
        "            return false;\n",
        "\n",
        "        // Check divisibility from 2 to n-1\n",
        "        for (int i = 2; i < n; i++)\n",
        "            if (n % i == 0)\n",
        "                return false;\n",
        "        return true;\n",
        "   }\n",
        "\n",
        "    public static void main(String[] args) {\n",
        "        int n = 7;\n",
        "      \tif(isPrime(n)){\n",
        "        \tSystem.out.println(\"true\");\n",
        "        }else{\n",
        "          System.out.println(\"false\");\n",
        "    \t}\n",
        "\t}\n",
        "}"
      ],
      "metadata": {
        "colab": {
          "base_uri": "https://localhost:8080/"
        },
        "id": "LsX9tRPO7QTR",
        "outputId": "d9d6a12f-1ad5-42c8-e5af-4af85c8a3cd7"
      },
      "execution_count": null,
      "outputs": [
        {
          "output_type": "stream",
          "name": "stdout",
          "text": [
            "Writing isPrime.java\n"
          ]
        }
      ]
    },
    {
      "cell_type": "code",
      "source": [
        "!javac isPrime.java\n",
        "!java isPrime"
      ],
      "metadata": {
        "colab": {
          "base_uri": "https://localhost:8080/"
        },
        "id": "ORWL-wMM8z1I",
        "outputId": "0af8ef62-4bb1-41b5-887b-7fc02dee31cd"
      },
      "execution_count": null,
      "outputs": [
        {
          "output_type": "stream",
          "name": "stdout",
          "text": [
            "true\n"
          ]
        }
      ]
    },
    {
      "cell_type": "code",
      "source": [
        "%%writefile SumOfArray.java\n",
        "public class SumOfArray {\n",
        "    public static void main(String[] args) {\n",
        "        // Example array\n",
        "        int[] numbers = {1, 2, 3, 4, 5};\n",
        "\n",
        "        int sum = 0; // variable to store the sum\n",
        "\n",
        "        // Loop through each element and add to sum\n",
        "        for (int i = 0; i < numbers.length; i++) {\n",
        "            sum += numbers[i];\n",
        "        }\n",
        "\n",
        "        // Print the result\n",
        "        System.out.println(\"Sum of all elements: \" + sum);\n",
        "    }\n",
        "}\n"
      ],
      "metadata": {
        "id": "0AOFnxv6BPcc",
        "colab": {
          "base_uri": "https://localhost:8080/"
        },
        "outputId": "34629258-b969-4f53-bd10-1dd4ce126635"
      },
      "execution_count": null,
      "outputs": [
        {
          "output_type": "stream",
          "name": "stdout",
          "text": [
            "Writing SumOfArray.java\n"
          ]
        }
      ]
    },
    {
      "cell_type": "code",
      "source": [
        "!javac SumOfArray.java\n",
        "!java SumOfArray"
      ],
      "metadata": {
        "id": "Qlrd_pj-BPXz",
        "colab": {
          "base_uri": "https://localhost:8080/"
        },
        "outputId": "3a5260c0-3c9e-40eb-aa6a-796815c6ffc5"
      },
      "execution_count": null,
      "outputs": [
        {
          "output_type": "stream",
          "name": "stdout",
          "text": [
            "Sum of all elements: 15\n"
          ]
        }
      ]
    },
    {
      "cell_type": "code",
      "source": [
        "%%writefile reversearray.java\n",
        "// Java Program to reverse an array using temporary array\n",
        "\n",
        "import java.util.Arrays;\n",
        "\n",
        "class reversearray {\n",
        "\n",
        "    // function to reverse an array\n",
        "    static void reverseArray(int[] arr) {\n",
        "        int n = arr.length;\n",
        "\n",
        "        // Temporary array to store elements in reversed order\n",
        "        int[] temp = new int[n];\n",
        "\n",
        "        // Copy elements from original array to temp in reverse order\n",
        "        for (int i = 0; i < n; i++)\n",
        "            temp[i] = arr[n - i - 1];\n",
        "\n",
        "        // Copy elements back to original array\n",
        "        for (int i = 0; i < n; i++)\n",
        "            arr[i] = temp[i];\n",
        "    }\n",
        "\n",
        "    public static void main(String[] args) {\n",
        "        int[] arr = { 1, 4, 3, 2, 6, 5 };\n",
        "\n",
        "        reverseArray(arr);\n",
        "\n",
        "        for (int i = 0; i < arr.length; i++)\n",
        "            System.out.print(arr[i] + \" \");\n",
        "    }\n",
        "}"
      ],
      "metadata": {
        "colab": {
          "base_uri": "https://localhost:8080/"
        },
        "id": "Sx9MHHdCHwen",
        "outputId": "2c5ec35a-12ff-499b-87e4-06446834870e"
      },
      "execution_count": null,
      "outputs": [
        {
          "output_type": "stream",
          "name": "stdout",
          "text": [
            "Writing reversearray.java\n"
          ]
        }
      ]
    },
    {
      "cell_type": "code",
      "source": [
        "!javac reversearray.java\n",
        "!java reversearray.java"
      ],
      "metadata": {
        "colab": {
          "base_uri": "https://localhost:8080/"
        },
        "id": "7hcbHL8JHwDy",
        "outputId": "90b1a73e-67d3-4087-e10b-ad8bfbf0f616"
      },
      "execution_count": null,
      "outputs": [
        {
          "output_type": "stream",
          "name": "stdout",
          "text": [
            "error: class found on application class path: reversearray\n"
          ]
        }
      ]
    },
    {
      "cell_type": "code",
      "source": [
        "%%writefile Matrix.java\n",
        "public class Matrix {\n",
        "    public static void main(String[] args) {\n",
        "        int[][] a = {{1, 2}, {3, 4}};\n",
        "        int[][] b = {{5, 6}, {7, 8}};\n",
        "        int rows = a.length, cols = a[0].length;\n",
        "\n",
        "        // Matrix Addition\n",
        "        int[][] sum = new int[rows][cols];\n",
        "        for (int i = 0; i < rows; i++)\n",
        "            for (int j = 0; j < cols; j++)\n",
        "                sum[i][j] = a[i][j] + b[i][j];\n",
        "\n",
        "        System.out.println(\"Matrix Addition:\");\n",
        "        for (int[] row : sum) {\n",
        "            for (int val : row) System.out.print(val + \" \");\n",
        "            System.out.println();\n",
        "        }\n",
        "\n",
        "        // Matrix Multiplication\n",
        "        int[][] product = new int[rows][cols];\n",
        "        for (int i = 0; i < rows; i++)\n",
        "            for (int j = 0; j < cols; j++)\n",
        "                for (int k = 0; k < cols; k++)\n",
        "                    product[i][j] += a[i][k] * b[k][j];\n",
        "\n",
        "        System.out.println(\"\\nMatrix Multiplication:\");\n",
        "        for (int[] row : product) {\n",
        "            for (int val : row) System.out.print(val + \" \");\n",
        "            System.out.println();\n",
        "        }\n",
        "    }\n",
        "}\n"
      ],
      "metadata": {
        "colab": {
          "base_uri": "https://localhost:8080/"
        },
        "id": "GrsasF3HOYoY",
        "outputId": "89400b53-7210-4a6c-e6da-0ea25a3e8147"
      },
      "execution_count": null,
      "outputs": [
        {
          "output_type": "stream",
          "name": "stdout",
          "text": [
            "Writing Matrix.java\n"
          ]
        }
      ]
    },
    {
      "cell_type": "code",
      "source": [
        "!javac Matrix.java\n",
        "!java Matrix"
      ],
      "metadata": {
        "colab": {
          "base_uri": "https://localhost:8080/"
        },
        "id": "4UJPva8gOYla",
        "outputId": "68025389-cbd0-434f-a705-61c13b1084e1"
      },
      "execution_count": null,
      "outputs": [
        {
          "output_type": "stream",
          "name": "stdout",
          "text": [
            "Matrix Addition:\n",
            "6 8 \n",
            "10 12 \n",
            "\n",
            "Matrix Multiplication:\n",
            "19 22 \n",
            "43 50 \n"
          ]
        }
      ]
    },
    {
      "cell_type": "code",
      "source": [
        "%%writefile BubbleSort.java\n",
        "public class BubbleSort {\n",
        "    public static void main(String[] args) {\n",
        "        int[] arr = {5, 3, 8, 4, 2};\n",
        "        int n = arr.length;\n",
        "\n",
        "        for (int i = 0; i < n - 1; i++) {\n",
        "            for (int j = 0; j < n - i - 1; j++) {\n",
        "                if (arr[j] > arr[j + 1]) {\n",
        "                    int temp = arr[j];\n",
        "                    arr[j] = arr[j + 1];\n",
        "                    arr[j + 1] = temp;\n",
        "                }\n",
        "            }\n",
        "        }\n",
        "\n",
        "        System.out.println(\"Sorted Array:\");\n",
        "        for (int num : arr) System.out.print(num + \" \");\n",
        "    }\n",
        "}\n"
      ],
      "metadata": {
        "colab": {
          "base_uri": "https://localhost:8080/"
        },
        "id": "8YhCIuwaOuXJ",
        "outputId": "95ddcc42-88ac-4ab0-8e27-85068dc944bb"
      },
      "execution_count": null,
      "outputs": [
        {
          "output_type": "stream",
          "name": "stdout",
          "text": [
            "Writing BubbleSort.java\n"
          ]
        }
      ]
    },
    {
      "cell_type": "code",
      "source": [
        "!javac BubbleSort.java\n",
        "!java BubbleSort"
      ],
      "metadata": {
        "colab": {
          "base_uri": "https://localhost:8080/"
        },
        "id": "NscdNX6mPblc",
        "outputId": "79df0279-b388-4ad3-9c4b-f052bbf2f298"
      },
      "execution_count": null,
      "outputs": [
        {
          "output_type": "stream",
          "name": "stdout",
          "text": [
            "Sorted Array:\n",
            "2 3 4 5 8 "
          ]
        }
      ]
    },
    {
      "cell_type": "code",
      "source": [
        "%%writefile twoarray.java\n",
        "public class twoarray {\n",
        "    public static void main(String[] args) {\n",
        "        int[][] arr = {\n",
        "            {1, 2, 3},\n",
        "            {4, 5, 6},\n",
        "            {7, 8, 9}\n",
        "        };\n",
        "\n",
        "        System.out.println(\"2D Array Elements:\");\n",
        "        for (int i = 0; i < arr.length; i++) {\n",
        "            for (int j = 0; j < arr[i].length; j++) {\n",
        "                System.out.print(arr[i][j] + \" \");\n",
        "            }\n",
        "            System.out.println();\n",
        "        }\n",
        "    }\n",
        "}\n"
      ],
      "metadata": {
        "colab": {
          "base_uri": "https://localhost:8080/"
        },
        "id": "Rm0N7zZKPiUF",
        "outputId": "6b0926ef-1dc4-4cf8-9982-6b6c3e4f2aa1"
      },
      "execution_count": null,
      "outputs": [
        {
          "output_type": "stream",
          "name": "stdout",
          "text": [
            "Writing twoarray.java\n"
          ]
        }
      ]
    },
    {
      "cell_type": "code",
      "source": [
        "!javac twoarray.java\n",
        "!java twoarray"
      ],
      "metadata": {
        "colab": {
          "base_uri": "https://localhost:8080/"
        },
        "id": "YMcIHeeCP1Rj",
        "outputId": "0922fbef-127a-4245-9d81-2cf593c2bcc3"
      },
      "execution_count": null,
      "outputs": [
        {
          "output_type": "stream",
          "name": "stdout",
          "text": [
            "2D Array Elements:\n",
            "1 2 3 \n",
            "4 5 6 \n",
            "7 8 9 \n"
          ]
        }
      ]
    },
    {
      "cell_type": "code",
      "source": [
        "%%writefile G.java\n",
        "class G {\n",
        "\n",
        "    static int binarySearch(int arr[], int x) {\n",
        "        int low = 0, high = arr.length - 1;\n",
        "        while (low <= high) {\n",
        "            int mid = low + (high - low) / 2;\n",
        "\n",
        "            // Check if x is present at mid\n",
        "            if (arr[mid] == x)\n",
        "                return mid;\n",
        "\n",
        "            // If x greater, ignore left half\n",
        "            if (arr[mid] < x)\n",
        "                low = mid + 1;\n",
        "\n",
        "            // If x is smaller, ignore right half\n",
        "            else\n",
        "                high = mid - 1;\n",
        "        }\n",
        "\n",
        "        // If we reach here, then element was\n",
        "        // not present\n",
        "        return -1;\n",
        "    }\n",
        "\n",
        "    public static void main(String args[]) {\n",
        "        int arr[] = { 2, 3, 4, 10, 40 };\n",
        "        int x = 10;\n",
        "        int result = binarySearch(arr, x);\n",
        "        if (result == -1)\n",
        "            System.out.println(\n",
        "                \"Element is not present in array\");\n",
        "        else\n",
        "            System.out.println(\"Element is present at \"\n",
        "                               + \"index \" + result);\n",
        "    }\n",
        "}"
      ],
      "metadata": {
        "colab": {
          "base_uri": "https://localhost:8080/"
        },
        "id": "nV7uBT0NQqZW",
        "outputId": "477ea44f-105d-4452-cb5d-20d07c1f8d9a"
      },
      "execution_count": null,
      "outputs": [
        {
          "output_type": "stream",
          "name": "stdout",
          "text": [
            "Writing G.java\n"
          ]
        }
      ]
    },
    {
      "cell_type": "code",
      "source": [
        "!javac G.java\n",
        "!java G"
      ],
      "metadata": {
        "colab": {
          "base_uri": "https://localhost:8080/"
        },
        "id": "r8NA3EsyQq7f",
        "outputId": "f433bbe6-cf8b-40b4-8a82-1fd87a1e0aa6"
      },
      "execution_count": null,
      "outputs": [
        {
          "output_type": "stream",
          "name": "stdout",
          "text": [
            "Element is present at index 3\n"
          ]
        }
      ]
    },
    {
      "cell_type": "code",
      "source": [
        "%%writefile duplicate.java\n",
        "// Java Program to Remove Duplicate\n",
        "// Elements From the Array using Set\n",
        "import java.util.*;\n",
        "\n",
        "class duplicate {\n",
        "\n",
        "    // Function to remove duplicate from array\n",
        "    public static void remove(int[] a)\n",
        "    {\n",
        "        LinkedHashSet<Integer> s\n",
        "            = new LinkedHashSet<Integer>();\n",
        "\n",
        "        // adding elements to LinkedHashSet\n",
        "        for (int i = 0; i < a.length; i++)\n",
        "            s.add(a[i]);\n",
        "\n",
        "        System.out.print(s);\n",
        "    }\n",
        "\n",
        "    public static void main(String[] args)\n",
        "    {\n",
        "        int a[] = {1, 2, 2, 3, 3, 4, 5};\n",
        "\n",
        "        // Function call\n",
        "        remove(a);\n",
        "    }\n",
        "}"
      ],
      "metadata": {
        "colab": {
          "base_uri": "https://localhost:8080/"
        },
        "id": "WHbstx3INRt3",
        "outputId": "766e26fa-8f89-4c75-d8a8-ff3b8de256a1"
      },
      "execution_count": null,
      "outputs": [
        {
          "output_type": "stream",
          "name": "stdout",
          "text": [
            "Writing duplicate.java\n"
          ]
        }
      ]
    },
    {
      "cell_type": "code",
      "source": [
        "!javac duplicate.java\n",
        "!java duplicate"
      ],
      "metadata": {
        "colab": {
          "base_uri": "https://localhost:8080/"
        },
        "id": "Wm20SJrjPBXY",
        "outputId": "c1eba3f4-9d47-4bbd-c8f3-7eac8b02b3a3"
      },
      "execution_count": null,
      "outputs": [
        {
          "output_type": "stream",
          "name": "stdout",
          "text": [
            "[1, 2, 3, 4, 5]"
          ]
        }
      ]
    },
    {
      "cell_type": "code",
      "source": [
        "%%writefile Operators.java\n",
        "// Java Program to show the use of\n",
        "// Arithmetic Operators\n",
        "import java.io.*;\n",
        "\n",
        "class Operators\n",
        "{\n",
        "    public static void main (String[] args)\n",
        "    {\n",
        "\n",
        "        // Arithmetic operators on integers\n",
        "        int a = 10;\n",
        "        int b = 3;\n",
        "\n",
        "        // Arithmetic operators on Strings\n",
        "        String n1 = \"15\";\n",
        "        String n2 = \"25\";\n",
        "\n",
        "        // Convert Strings to integers\n",
        "        int a1 = Integer.parseInt(n1);\n",
        "        int b1 = Integer.parseInt(n2);\n",
        "\n",
        "        System.out.println(\"a + b = \" + (a + b));\n",
        "        System.out.println(\"a - b = \" + (a - b));\n",
        "        System.out.println(\"a * b = \" + (a * b));\n",
        "        System.out.println(\"a / b = \" + (a / b));\n",
        "        System.out.println(\"a % b = \" + (a % b));\n",
        "        System.out.println(\"a1 + b1 = \" + (a1 + b1));\n",
        "\n",
        "    }\n",
        "}"
      ],
      "metadata": {
        "colab": {
          "base_uri": "https://localhost:8080/"
        },
        "id": "P_903dzRPrVe",
        "outputId": "29fedf3a-b495-401a-f009-f292d414d22b"
      },
      "execution_count": null,
      "outputs": [
        {
          "output_type": "stream",
          "name": "stdout",
          "text": [
            "Writing Operators.java\n"
          ]
        }
      ]
    },
    {
      "cell_type": "code",
      "source": [
        "!javac Operators.java\n",
        "!java Operators"
      ],
      "metadata": {
        "colab": {
          "base_uri": "https://localhost:8080/"
        },
        "id": "ZRZcLRZXPxyO",
        "outputId": "312c5390-058f-4ec8-c390-e5350de392fd"
      },
      "execution_count": null,
      "outputs": [
        {
          "output_type": "stream",
          "name": "stdout",
          "text": [
            "a + b = 13\n",
            "a - b = 7\n",
            "a * b = 30\n",
            "a / b = 3\n",
            "a % b = 1\n",
            "a1 + b1 = 40\n"
          ]
        }
      ]
    },
    {
      "cell_type": "code",
      "source": [
        "%%writefile increment.java\n",
        "// Java Program to show the use of\n",
        "// Unary Operators\n",
        "import java.io.*;\n",
        "\n",
        "// Driver Class\n",
        "class increment {\n",
        "      // main function\n",
        "    public static void main(String[] args)\n",
        "    {\n",
        "        // Interger declared\n",
        "        int a = 10;\n",
        "        int b = 10;\n",
        "\n",
        "        // Using unary operators\n",
        "        System.out.println(\"Postincrement : \" + (a++));\n",
        "        System.out.println(\"Preincrement : \" + (++a));\n",
        "\n",
        "        System.out.println(\"Postdecrement : \" + (b--));\n",
        "        System.out.println(\"Predecrement : \" + (--b));\n",
        "    }\n",
        "}"
      ],
      "metadata": {
        "colab": {
          "base_uri": "https://localhost:8080/"
        },
        "id": "TiutkJ3aQLMu",
        "outputId": "1a1edc9f-5e80-4459-a929-fff362a40d03"
      },
      "execution_count": null,
      "outputs": [
        {
          "output_type": "stream",
          "name": "stdout",
          "text": [
            "Writing increment.java\n"
          ]
        }
      ]
    },
    {
      "cell_type": "code",
      "source": [
        "!javac increment.java\n",
        "!java increment"
      ],
      "metadata": {
        "colab": {
          "base_uri": "https://localhost:8080/"
        },
        "id": "Sg3bHCM0QLJ1",
        "outputId": "8d2e76fe-58ac-49a4-cc4c-8687991c7889"
      },
      "execution_count": null,
      "outputs": [
        {
          "output_type": "stream",
          "name": "stdout",
          "text": [
            "Postincrement : 10\n",
            "Preincrement : 12\n",
            "Postdecrement : 10\n",
            "Predecrement : 8\n"
          ]
        }
      ]
    },
    {
      "cell_type": "code",
      "source": [
        "%%writefile Assignment.java\n",
        "// Java Program to show the use of\n",
        "// Assignment Operators\n",
        "import java.io.*;\n",
        "\n",
        "// Driver Class\n",
        "class Assignment {\n",
        "    // Main Function\n",
        "    public static void main(String[] args)\n",
        "    {\n",
        "\n",
        "        // Assignment operators\n",
        "        int f = 7;\n",
        "        System.out.println(\"f += 3: \" + (f += 3));\n",
        "        System.out.println(\"f -= 2: \" + (f -= 2));\n",
        "        System.out.println(\"f *= 4: \" + (f *= 4));\n",
        "        System.out.println(\"f /= 3: \" + (f /= 3));\n",
        "        System.out.println(\"f %= 2: \" + (f %= 2));\n",
        "        System.out.println(\"f &= 0b1010: \" + (f &= 0b1010));\n",
        "        System.out.println(\"f |= 0b1100: \" + (f |= 0b1100));\n",
        "        System.out.println(\"f ^= 0b1010: \" + (f ^= 0b1010));\n",
        "        System.out.println(\"f <<= 2: \" + (f <<= 2));\n",
        "        System.out.println(\"f >>= 1: \" + (f >>= 1));\n",
        "        System.out.println(\"f >>>= 1: \" + (f >>>= 1));\n",
        "    }\n",
        "}"
      ],
      "metadata": {
        "colab": {
          "base_uri": "https://localhost:8080/"
        },
        "id": "ZG8a7NDbRSG2",
        "outputId": "5fc0f862-55bb-4754-dbb2-6cbb8163f7d7"
      },
      "execution_count": null,
      "outputs": [
        {
          "output_type": "stream",
          "name": "stdout",
          "text": [
            "Writing Assignment.java\n"
          ]
        }
      ]
    },
    {
      "cell_type": "code",
      "source": [
        "!javac Assignment.java\n",
        "!java Assignment"
      ],
      "metadata": {
        "colab": {
          "base_uri": "https://localhost:8080/"
        },
        "id": "fuDMORKsRz-Q",
        "outputId": "ada2d526-a0b2-44d7-a8fe-63ef7c9285de"
      },
      "execution_count": null,
      "outputs": [
        {
          "output_type": "stream",
          "name": "stdout",
          "text": [
            "f += 3: 10\n",
            "f -= 2: 8\n",
            "f *= 4: 32\n",
            "f /= 3: 10\n",
            "f %= 2: 0\n",
            "f &= 0b1010: 0\n",
            "f |= 0b1100: 12\n",
            "f ^= 0b1010: 6\n",
            "f <<= 2: 24\n",
            "f >>= 1: 12\n",
            "f >>>= 1: 6\n"
          ]
        }
      ]
    },
    {
      "cell_type": "code",
      "source": [
        "%%writefile equals.java\n",
        "// the concept of .equals() and == operator\n",
        "public class equals {\n",
        "    public static void main(String[] args) {\n",
        "\n",
        "        String s1 = \"HELLO\";\n",
        "        String s2 = \"HELLO\";\n",
        "        String s3 =  new String(\"HELLO\");\n",
        "\n",
        "        System.out.println(s1 == s2);\n",
        "        System.out.println(s1 == s3);\n",
        "        System.out.println(s1.equals(s2));\n",
        "        System.out.println(s1.equals(s3));\n",
        "    }\n",
        "}"
      ],
      "metadata": {
        "colab": {
          "base_uri": "https://localhost:8080/"
        },
        "id": "QHRUMLu1SK4q",
        "outputId": "ef58685f-93cc-4f77-d8d5-69bbe19141f1"
      },
      "execution_count": null,
      "outputs": [
        {
          "output_type": "stream",
          "name": "stdout",
          "text": [
            "Writing equals.java\n"
          ]
        }
      ]
    },
    {
      "cell_type": "code",
      "source": [
        "!javac equals.java\n",
        "!java equals"
      ],
      "metadata": {
        "colab": {
          "base_uri": "https://localhost:8080/"
        },
        "id": "FiiXBLIITKIg",
        "outputId": "bc3b3b30-682d-448c-cdda-9783770a547e"
      },
      "execution_count": null,
      "outputs": [
        {
          "output_type": "stream",
          "name": "stdout",
          "text": [
            "true\n",
            "false\n",
            "true\n",
            "true\n"
          ]
        }
      ]
    },
    {
      "cell_type": "code",
      "source": [
        "%%writefile ternary.java\n",
        "// Java program to find largest among two\n",
        "// numbers using ternary operator\n",
        "import java.io.*;\n",
        "\n",
        "class ternary {\n",
        "    public static void main(String[] args)\n",
        "    {\n",
        "        // variable declaration\n",
        "        int n1 = 5, n2 = 10, max;\n",
        "\n",
        "        System.out.println(\"First num: \" + n1);\n",
        "        System.out.println(\"Second num: \" + n2);\n",
        "\n",
        "        // Largest among n1 and n2\n",
        "        max = (n1 > n2) ? n1 : n2;\n",
        "\n",
        "        // Print the largest number\n",
        "        System.out.println(\"Maximum is = \" + max);\n",
        "    }\n",
        "}"
      ],
      "metadata": {
        "colab": {
          "base_uri": "https://localhost:8080/"
        },
        "id": "dvtUVyeeTKFo",
        "outputId": "cd3044d2-d7ab-41d9-9cb5-88170700e64e"
      },
      "execution_count": null,
      "outputs": [
        {
          "output_type": "stream",
          "name": "stdout",
          "text": [
            "Writing ternary.java\n"
          ]
        }
      ]
    },
    {
      "cell_type": "code",
      "source": [
        "!javac ternary.java\n",
        "!java ternary"
      ],
      "metadata": {
        "colab": {
          "base_uri": "https://localhost:8080/"
        },
        "id": "ew1aJQHFT7zJ",
        "outputId": "9aee1327-b122-42ce-e367-2373e1b150c5"
      },
      "execution_count": null,
      "outputs": [
        {
          "output_type": "stream",
          "name": "stdout",
          "text": [
            "First num: 5\n",
            "Second num: 10\n",
            "Maximum is = 10\n"
          ]
        }
      ]
    },
    {
      "cell_type": "code",
      "source": [
        "%%writefile TryCatchExample.java\n",
        "import java.util.Scanner;\n",
        "\n",
        "public class TryCatchExample {\n",
        "    public static void main(String[] args) {\n",
        "        Scanner sc = new Scanner(System.in);\n",
        "\n",
        "        System.out.print(\"Enter first number: \");\n",
        "        int a = sc.nextInt();\n",
        "        System.out.print(\"Enter second number: \");\n",
        "        int b = sc.nextInt();\n",
        "\n",
        "        try {\n",
        "            int result = a / b; // may throw ArithmeticException\n",
        "            System.out.println(\"Result = \" + result);\n",
        "        } catch (ArithmeticException e) {\n",
        "            System.out.println(\"Error: Division by zero is not allowed.\");\n",
        "        }\n",
        "    }\n",
        "}\n"
      ],
      "metadata": {
        "colab": {
          "base_uri": "https://localhost:8080/"
        },
        "id": "GPR5QA7pUDJx",
        "outputId": "8018d291-048c-4fdc-c256-108e016c9800"
      },
      "execution_count": null,
      "outputs": [
        {
          "output_type": "stream",
          "name": "stdout",
          "text": [
            "Writing TryCatchExample.java\n"
          ]
        }
      ]
    },
    {
      "cell_type": "code",
      "source": [
        "!javac TryCatchExample.java\n",
        "!java TryCatchExample"
      ],
      "metadata": {
        "colab": {
          "base_uri": "https://localhost:8080/"
        },
        "id": "Td09bdwcVeiT",
        "outputId": "8e50fa0f-b1d5-4e5f-d18b-c271eaf41ce0"
      },
      "execution_count": null,
      "outputs": [
        {
          "output_type": "stream",
          "name": "stdout",
          "text": [
            "Enter first number: 10\n",
            "Enter second number: 0\n",
            "Error: Division by zero is not allowed.\n"
          ]
        }
      ]
    },
    {
      "cell_type": "code",
      "source": [
        "%%writefile TryCatchFinallyExample.java\n",
        "import java.util.Scanner;\n",
        "\n",
        "public class TryCatchFinallyExample {\n",
        "    public static void main(String[] args) {\n",
        "        Scanner sc = new Scanner(System.in);\n",
        "\n",
        "        System.out.print(\"Enter first number: \");\n",
        "        int a = sc.nextInt();\n",
        "        System.out.print(\"Enter second number: \");\n",
        "        int b = sc.nextInt();\n",
        "\n",
        "        try {\n",
        "            int result = a / b; // may throw ArithmeticException\n",
        "            System.out.println(\"Result = \" + result);\n",
        "        } catch (ArithmeticException e) {\n",
        "            System.out.println(\"Error: Division by zero is not allowed.\");\n",
        "        } finally {\n",
        "            System.out.println(\"Execution completed (finally block runs always).\");\n",
        "        }\n",
        "    }\n",
        "}\n"
      ],
      "metadata": {
        "colab": {
          "base_uri": "https://localhost:8080/"
        },
        "id": "yZ5lMfUfVuyI",
        "outputId": "c61a0bfd-f601-4b0b-9bd3-84908e2002c3"
      },
      "execution_count": null,
      "outputs": [
        {
          "output_type": "stream",
          "name": "stdout",
          "text": [
            "Writing TryCatchFinallyExample.java\n"
          ]
        }
      ]
    },
    {
      "cell_type": "code",
      "source": [
        "!javac TryCatchFinallyExample.java\n",
        "!java TryCatchFinallyExample"
      ],
      "metadata": {
        "colab": {
          "base_uri": "https://localhost:8080/"
        },
        "id": "uVkyryu6V3Qe",
        "outputId": "6306594d-afe8-4137-9a7c-3fe4eee2f1a0"
      },
      "execution_count": null,
      "outputs": [
        {
          "output_type": "stream",
          "name": "stdout",
          "text": [
            "Enter first number: 12\n",
            "Enter second number: 4\n",
            "Result = 3\n",
            "Execution completed (finally block runs always).\n"
          ]
        }
      ]
    },
    {
      "cell_type": "code",
      "source": [
        "%%writefile FactorialExample.java\n",
        "// Custom Exception Class\n",
        "class NegativeNumberException extends Exception {\n",
        "    public NegativeNumberException(String message) {\n",
        "        super(message);\n",
        "    }\n",
        "}\n",
        "\n",
        "public class FactorialExample {\n",
        "\n",
        "    // Method to calculate factorial (uses throws to declare exception)\n",
        "    public static long factorial(int n) throws NegativeNumberException {\n",
        "        if (n < 0) {\n",
        "            // Throwing custom exception\n",
        "            throw new NegativeNumberException(\"Factorial is not defined for negative numbers!\");\n",
        "        }\n",
        "\n",
        "        long fact = 1;\n",
        "        for (int i = 1; i <= n; i++) {\n",
        "            fact *= i;\n",
        "        }\n",
        "        return fact;\n",
        "    }\n",
        "\n",
        "    public static void main(String[] args) {\n",
        "        int num = -5; // Change value to test\n",
        "\n",
        "        try {\n",
        "            long result = factorial(num); // factorial() may throw exception\n",
        "            System.out.println(\"Factorial of \" + num + \" = \" + result);\n",
        "        } catch (NegativeNumberException e) {\n",
        "            System.out.println(\"Error: \" + e.getMessage());\n",
        "        } finally {\n",
        "            System.out.println(\"Program completed (finally block executed).\");\n",
        "        }\n",
        "    }\n",
        "}\n"
      ],
      "metadata": {
        "colab": {
          "base_uri": "https://localhost:8080/"
        },
        "id": "Xav9JlgTXQ2f",
        "outputId": "b6184b90-4cdd-4b23-9412-d9cc1ec9f596"
      },
      "execution_count": null,
      "outputs": [
        {
          "output_type": "stream",
          "name": "stdout",
          "text": [
            "Writing FactorialExample.java\n"
          ]
        }
      ]
    },
    {
      "cell_type": "code",
      "source": [
        "!javac FactorialExample.java\n",
        "!java FactorialExample"
      ],
      "metadata": {
        "colab": {
          "base_uri": "https://localhost:8080/"
        },
        "id": "HovTxnyhXYN3",
        "outputId": "3166970e-07f5-4ff1-b854-2f855b373bac"
      },
      "execution_count": null,
      "outputs": [
        {
          "output_type": "stream",
          "name": "stdout",
          "text": [
            "Error: Factorial is not defined for negative numbers!\n",
            "Program completed (finally block executed).\n"
          ]
        }
      ]
    },
    {
      "cell_type": "code",
      "source": [
        "%%writefile Geeks.java\n",
        "import java.util.Scanner;\n",
        "\n",
        "// Custom Exception (not public, so file name doesn't need to match)\n",
        "class InvalidAgeException extends Exception {\n",
        "    public InvalidAgeException(String message) {\n",
        "        super(message);\n",
        "    }\n",
        "}\n",
        "\n",
        "public class Geeks {\n",
        "    public static void main(String[] args) {\n",
        "        Scanner sc = new Scanner(System.in);\n",
        "\n",
        "        System.out.print(\"Enter your age: \");\n",
        "        int age = sc.nextInt();\n",
        "\n",
        "        try {\n",
        "            if (age < 18) {\n",
        "                throw new InvalidAgeException(\"Age must be 18 or above!\");\n",
        "            }\n",
        "            System.out.println(\"Access granted. You are eligible!\");\n",
        "        } catch (InvalidAgeException e) {\n",
        "            System.out.println(\"Error: \" + e.getMessage());\n",
        "        } finally {\n",
        "            System.out.println(\"Program continues after handling the exception.\");\n",
        "        }\n",
        "    }\n",
        "}\n"
      ],
      "metadata": {
        "colab": {
          "base_uri": "https://localhost:8080/"
        },
        "id": "0NG0b88gZ8xL",
        "outputId": "f05d5c2b-6e4b-44f7-af15-c8e538bc36a3"
      },
      "execution_count": null,
      "outputs": [
        {
          "output_type": "stream",
          "name": "stdout",
          "text": [
            "Writing Geeks.java\n"
          ]
        }
      ]
    },
    {
      "cell_type": "code",
      "source": [
        "!javac Geeks.java\n",
        "!java Geeks"
      ],
      "metadata": {
        "colab": {
          "base_uri": "https://localhost:8080/"
        },
        "id": "K9nTsn8yaDCr",
        "outputId": "e704c50b-bf20-412a-9c36-af8125b924fd"
      },
      "execution_count": null,
      "outputs": [
        {
          "output_type": "stream",
          "name": "stdout",
          "text": [
            "Enter your age: 20\n",
            "Access granted. You are eligible!\n",
            "Program continues after handling the exception.\n"
          ]
        }
      ]
    },
    {
      "cell_type": "code",
      "source": [
        "%%writefile BitwiseOperations.java\n",
        "import java.util.Scanner;\n",
        "\n",
        "public class BitwiseOperations {\n",
        "    public static void main(String[] args) {\n",
        "        Scanner sc = new Scanner(System.in);\n",
        "\n",
        "        // Input two integers\n",
        "        System.out.print(\"Enter first integer: \");\n",
        "        int a = sc.nextInt();\n",
        "\n",
        "        System.out.print(\"Enter second integer: \");\n",
        "        int b = sc.nextInt();\n",
        "\n",
        "        // Bitwise AND\n",
        "        System.out.println(\"a & b = \" + (a & b));\n",
        "\n",
        "        // Bitwise OR\n",
        "        System.out.println(\"a | b = \" + (a | b));\n",
        "\n",
        "        // Bitwise XOR\n",
        "        System.out.println(\"a ^ b = \" + (a ^ b));\n",
        "\n",
        "        // Bitwise NOT (on a)\n",
        "        System.out.println(\"~a = \" + (~a));\n",
        "\n",
        "        // Left shift a by 1\n",
        "        System.out.println(\"a << 1 = \" + (a << 1));\n",
        "\n",
        "        // Right shift a by 1\n",
        "        System.out.println(\"a >> 1 = \" + (a >> 1));\n",
        "\n",
        "        sc.close();\n",
        "    }\n",
        "}\n",
        "\n"
      ],
      "metadata": {
        "id": "eOpjrat7aRIy",
        "colab": {
          "base_uri": "https://localhost:8080/"
        },
        "outputId": "62d2f445-8e5e-446b-f211-2a45c94a9fc9"
      },
      "execution_count": null,
      "outputs": [
        {
          "output_type": "stream",
          "name": "stdout",
          "text": [
            "Writing BitwiseOperations.java\n"
          ]
        }
      ]
    },
    {
      "cell_type": "code",
      "source": [
        "!javac BitwiseOperations.java\n",
        "!java BitwiseOperations"
      ],
      "metadata": {
        "id": "CkA81nuNaRF6",
        "colab": {
          "base_uri": "https://localhost:8080/"
        },
        "outputId": "afed7878-dca1-4d86-b2d4-4be86456b1f9"
      },
      "execution_count": null,
      "outputs": [
        {
          "output_type": "stream",
          "name": "stdout",
          "text": [
            "Enter first integer: 10\n",
            "Enter second integer: 20\n",
            "a & b = 0\n",
            "a | b = 30\n",
            "a ^ b = 30\n",
            "~a = -11\n",
            "a << 1 = 20\n",
            "a >> 1 = 5\n"
          ]
        }
      ]
    },
    {
      "cell_type": "code",
      "source": [
        "%%writefile OperatorPrecedence.java\n",
        "public class OperatorPrecedence {\n",
        "    public static void main(String[] args) {\n",
        "        int a = 10, b = 5, c = 2;\n",
        "\n",
        "        int result1 = a + b * c;\n",
        "        int result2 = (a + b) * c;\n",
        "        int result3 = a + b - c;\n",
        "        int result4 = a + b / c;\n",
        "        int result5 = (a + b) / c;\n",
        "        int result6 = a * b % c;\n",
        "\n",
        "        System.out.println(\"a + b * c = \" + result1);       // Multiplication before addition\n",
        "        System.out.println(\"(a + b) * c = \" + result2);     // Parentheses change order\n",
        "        System.out.println(\"a + b - c = \" + result3);       // Left to right (same precedence)\n",
        "        System.out.println(\"a + b / c = \" + result4);       // Division before addition\n",
        "        System.out.println(\"(a + b) / c = \" + result5);     // Parentheses first\n",
        "        System.out.println(\"a * b % c = \" + result6);       // * and % have same precedence\n",
        "    }\n",
        "}\n"
      ],
      "metadata": {
        "id": "dFxpMNYEaRA1",
        "colab": {
          "base_uri": "https://localhost:8080/"
        },
        "outputId": "3de10621-a5e9-40a6-da25-b7f012a2b6c7"
      },
      "execution_count": null,
      "outputs": [
        {
          "output_type": "stream",
          "name": "stdout",
          "text": [
            "Writing OperatorPrecedence.java\n"
          ]
        }
      ]
    },
    {
      "cell_type": "code",
      "source": [
        "!javac OperatorPrecedence.java\n",
        "!java OperatorPrecedence"
      ],
      "metadata": {
        "id": "kL7XkB8GaQ9z",
        "colab": {
          "base_uri": "https://localhost:8080/"
        },
        "outputId": "ef4d944f-4061-4892-b62f-f8acd7823cc7"
      },
      "execution_count": null,
      "outputs": [
        {
          "output_type": "stream",
          "name": "stdout",
          "text": [
            "a + b * c = 20\n",
            "(a + b) * c = 30\n",
            "a + b - c = 13\n",
            "a + b / c = 12\n",
            "(a + b) / c = 7\n",
            "a * b % c = 0\n"
          ]
        }
      ]
    },
    {
      "cell_type": "code",
      "source": [
        "%%writefile test.java\n",
        "// Java program to illustrate\n",
        "// Constructor Overloading\n",
        "class Box {\n",
        "    double width, height, depth;\n",
        "\n",
        "    // constructor used when all dimensions\n",
        "    // specified\n",
        "    Box(double w, double h, double d)\n",
        "    {\n",
        "        width = w;\n",
        "        height = h;\n",
        "        depth = d;\n",
        "    }\n",
        "\n",
        "    // constructor used when no dimensions\n",
        "    // specified\n",
        "    Box() { width = height = depth = 0; }\n",
        "\n",
        "    // constructor used when cube is created\n",
        "    Box(double len) { width = height = depth = len; }\n",
        "\n",
        "    // compute and return volume\n",
        "    double volume() { return width * height * depth; }\n",
        "}\n",
        "\n",
        "// Driver code\n",
        "public class test {\n",
        "    public static void main(String args[])\n",
        "    {\n",
        "        // create boxes using the various\n",
        "        // constructors\n",
        "        Box mybox1 = new Box(10, 20, 15);\n",
        "        Box mybox2 = new Box();\n",
        "        Box mycube = new Box(7);\n",
        "\n",
        "        double vol;\n",
        "\n",
        "        // get volume of first box\n",
        "        vol = mybox1.volume();\n",
        "        System.out.println(\"Volume of mybox1 is \" + vol);\n",
        "\n",
        "        // get volume of second box\n",
        "        vol = mybox2.volume();\n",
        "        System.out.println(\"Volume of mybox2 is \" + vol);\n",
        "\n",
        "        // get volume of cube\n",
        "        vol = mycube.volume();\n",
        "        System.out.println(\"Volume of mycube is \" + vol);\n",
        "    }\n",
        "}"
      ],
      "metadata": {
        "colab": {
          "base_uri": "https://localhost:8080/"
        },
        "id": "v662UBspPypy",
        "outputId": "e9ffde55-008e-418e-84d8-ca2e98532e26"
      },
      "execution_count": null,
      "outputs": [
        {
          "output_type": "stream",
          "name": "stdout",
          "text": [
            "Overwriting test.java\n"
          ]
        }
      ]
    },
    {
      "cell_type": "code",
      "source": [
        "!javac test.java\n",
        "!java test"
      ],
      "metadata": {
        "colab": {
          "base_uri": "https://localhost:8080/"
        },
        "id": "U0a9GsLsPyl_",
        "outputId": "db9d5f12-15c6-4091-9727-8f6b08703316"
      },
      "execution_count": null,
      "outputs": [
        {
          "output_type": "stream",
          "name": "stdout",
          "text": [
            "Volume of mybox1 is 3000.0\n",
            "Volume of mybox2 is 0.0\n",
            "Volume of mycube is 343.0\n"
          ]
        }
      ]
    },
    {
      "cell_type": "code",
      "source": [
        "%%writefile Car.java\n",
        "public class Car {\n",
        "    String brand;\n",
        "    int year;\n",
        "\n",
        "    // Parameterized constructor\n",
        "    Car(String brand, int year) {\n",
        "        this.brand = brand;\n",
        "        this.year = year;\n",
        "    }\n",
        "\n",
        "    void display() {\n",
        "        System.out.println(\"Brand: \" + brand + \", Year: \" + year);\n",
        "    }\n",
        "\n",
        "    public static void main(String[] args) {\n",
        "        Car c1 = new Car(\"Toyota\", 2020);\n",
        "        Car c2 = new Car(\"Honda\", 2023);\n",
        "\n",
        "        c1.display();\n",
        "        c2.display();\n",
        "    }\n",
        "}\n"
      ],
      "metadata": {
        "colab": {
          "base_uri": "https://localhost:8080/"
        },
        "id": "dI2XCYkwPykf",
        "outputId": "26b3c91f-9a8a-4dff-ed90-11f051ef2406"
      },
      "execution_count": null,
      "outputs": [
        {
          "output_type": "stream",
          "name": "stdout",
          "text": [
            "Writing Car.java\n"
          ]
        }
      ]
    },
    {
      "cell_type": "code",
      "source": [
        "!javac Car.java\n",
        "!java Car"
      ],
      "metadata": {
        "colab": {
          "base_uri": "https://localhost:8080/"
        },
        "id": "wQl85NgwPyQD",
        "outputId": "ef864be0-118b-4215-f0c9-eb3d7740fd88"
      },
      "execution_count": null,
      "outputs": [
        {
          "output_type": "stream",
          "name": "stdout",
          "text": [
            "Brand: Toyota, Year: 2020\n",
            "Brand: Honda, Year: 2023\n"
          ]
        }
      ]
    },
    {
      "cell_type": "code",
      "source": [
        "%%writefile stat.java\n",
        "// Java program to demonstrate that\n",
        "// in both static and non-static methods,\n",
        "// static methods are directly accessed\n",
        "import java.io.*;\n",
        "\n",
        "public class stat {\n",
        "\n",
        "    static int num = 100;\n",
        "    static String str = \"GeeksForGeeks\";\n",
        "\n",
        "    // This is Static method\n",
        "    static void display()\n",
        "    {\n",
        "        System.out.println(\"Static number is: \" + num);\n",
        "        System.out.println(\"Static string is: \" + str);\n",
        "    }\n",
        "\n",
        "    // non-static method\n",
        "    void nonstatic()\n",
        "    {\n",
        "        // our static method can accessed\n",
        "        // in non static method\n",
        "        display();\n",
        "    }\n",
        "\n",
        "    // main method\n",
        "    public static void main(String args[])\n",
        "    {\n",
        "        stat obj = new stat();\n",
        "\n",
        "        // This is object to call non static method\n",
        "        obj.nonstatic();\n",
        "\n",
        "        // static method can called\n",
        "        // directly without an object\n",
        "        display();\n",
        "    }\n",
        "}"
      ],
      "metadata": {
        "id": "sp3dxG65PyNN",
        "colab": {
          "base_uri": "https://localhost:8080/"
        },
        "outputId": "e23ea5df-5211-4b3c-aefc-3e33c5fe2f40"
      },
      "execution_count": null,
      "outputs": [
        {
          "output_type": "stream",
          "name": "stdout",
          "text": [
            "Overwriting stat.java\n"
          ]
        }
      ]
    },
    {
      "cell_type": "code",
      "source": [
        "!javac stat.java\n",
        "!java stat"
      ],
      "metadata": {
        "id": "iQK0pqv0PyKn",
        "colab": {
          "base_uri": "https://localhost:8080/"
        },
        "outputId": "8c9e1e5e-0752-4f34-c1cf-83ce96864d92"
      },
      "execution_count": null,
      "outputs": [
        {
          "output_type": "stream",
          "name": "stdout",
          "text": [
            "Static number is: 100\n",
            "Static string is: GeeksForGeeks\n",
            "Static number is: 100\n",
            "Static string is: GeeksForGeeks\n"
          ]
        }
      ]
    },
    {
      "cell_type": "code",
      "source": [
        "%%writefile ReverseString.java\n",
        "public class ReverseString {\n",
        "    public static void main(String[] args) {\n",
        "        String original = \"Hello\";\n",
        "        String reversed = \"\";\n",
        "\n",
        "        for (int i = original.length() - 1; i >= 0; i--) {\n",
        "            reversed += original.charAt(i); // Not efficient for large strings\n",
        "        }\n",
        "\n",
        "        System.out.println(\"Reversed string: \" + reversed);\n",
        "    }\n",
        "}\n"
      ],
      "metadata": {
        "id": "glhMYr8YPyIV",
        "colab": {
          "base_uri": "https://localhost:8080/"
        },
        "outputId": "a0fcf6fc-e760-4187-cf7f-906afc41e747"
      },
      "execution_count": null,
      "outputs": [
        {
          "output_type": "stream",
          "name": "stdout",
          "text": [
            "Writing ReverseString.java\n"
          ]
        }
      ]
    },
    {
      "cell_type": "code",
      "source": [
        "!javac ReverseString.java\n",
        "!java ReverseString"
      ],
      "metadata": {
        "id": "mSsC9olAPyFw",
        "colab": {
          "base_uri": "https://localhost:8080/"
        },
        "outputId": "7e906849-2cf7-465a-db2b-4a89ebd80eb5"
      },
      "execution_count": null,
      "outputs": [
        {
          "output_type": "stream",
          "name": "stdout",
          "text": [
            "Reversed string: olleH\n"
          ]
        }
      ]
    },
    {
      "cell_type": "code",
      "source": [
        "%%writefile StringImmutability.java\n",
        "public class StringImmutability {\n",
        "    public static void main(String[] args) {\n",
        "        String s = \"Java\";\n",
        "        String s2 = s;\n",
        "\n",
        "        s = s + \" Programming\";\n",
        "\n",
        "        System.out.println(\"Original string (s2): \" + s2);\n",
        "        System.out.println(\"Modified string (s): \" + s);\n",
        "    }\n",
        "}\n"
      ],
      "metadata": {
        "colab": {
          "base_uri": "https://localhost:8080/"
        },
        "id": "PFmgjZ8gb8YM",
        "outputId": "a98595a6-835e-46f1-9e51-2e64ef9c8932"
      },
      "execution_count": null,
      "outputs": [
        {
          "output_type": "stream",
          "name": "stdout",
          "text": [
            "Writing StringImmutability.java\n"
          ]
        }
      ]
    },
    {
      "cell_type": "code",
      "source": [
        "!javac StringImmutability.java\n",
        "!java StringImmutability"
      ],
      "metadata": {
        "colab": {
          "base_uri": "https://localhost:8080/"
        },
        "id": "S-xlWK4vb8Vg",
        "outputId": "af93b186-b7c8-4e35-8085-02fd86ca2ea8"
      },
      "execution_count": null,
      "outputs": [
        {
          "output_type": "stream",
          "name": "stdout",
          "text": [
            "Original string (s2): Java\n",
            "Modified string (s): Java Programming\n"
          ]
        }
      ]
    },
    {
      "cell_type": "code",
      "source": [
        "%%writefile PalindromeCheck.java\n",
        "public class PalindromeCheck {\n",
        "    public static void main(String[] args) {\n",
        "        String str = \"madam\";\n",
        "        boolean isPalindrome = true;\n",
        "\n",
        "        for (int i = 0; i < str.length() / 2; i++) {\n",
        "            if (str.charAt(i) != str.charAt(str.length() - 1 - i)) {\n",
        "                isPalindrome = false;\n",
        "                break;\n",
        "            }\n",
        "        }\n",
        "\n",
        "        if (isPalindrome)\n",
        "            System.out.println(str + \" is a palindrome.\");\n",
        "        else\n",
        "            System.out.println(str + \" is not a palindrome.\");\n",
        "    }\n",
        "}\n"
      ],
      "metadata": {
        "colab": {
          "base_uri": "https://localhost:8080/"
        },
        "id": "1sAOavXfb8Su",
        "outputId": "7802231b-05f0-4d3d-b0ad-f4e91c1c5dcd"
      },
      "execution_count": null,
      "outputs": [
        {
          "output_type": "stream",
          "name": "stdout",
          "text": [
            "Writing PalindromeCheck.java\n"
          ]
        }
      ]
    },
    {
      "cell_type": "code",
      "source": [
        "!javac PalindromeCheck.java\n",
        "!java PalindromeCheck"
      ],
      "metadata": {
        "colab": {
          "base_uri": "https://localhost:8080/"
        },
        "id": "yrehkBI6b8P8",
        "outputId": "43438345-2320-4934-8956-076d22a1525b"
      },
      "execution_count": null,
      "outputs": [
        {
          "output_type": "stream",
          "name": "stdout",
          "text": [
            "madam is a palindrome.\n"
          ]
        }
      ]
    },
    {
      "cell_type": "code",
      "source": [
        "%%writefile SplitWords.java\n",
        "public class SplitWords {\n",
        "    public static void main(String[] args) {\n",
        "        String sentence = \"Java is fun and powerful\";\n",
        "        String[] words = sentence.split(\" \");\n",
        "\n",
        "        for (String word : words) {\n",
        "            System.out.println(word);\n",
        "        }\n",
        "    }\n",
        "}\n"
      ],
      "metadata": {
        "colab": {
          "base_uri": "https://localhost:8080/"
        },
        "id": "xD91d_5Ub8M-",
        "outputId": "033b89f5-14e5-45c5-b2d9-505a763d061d"
      },
      "execution_count": null,
      "outputs": [
        {
          "output_type": "stream",
          "name": "stdout",
          "text": [
            "Writing SplitWords.java\n"
          ]
        }
      ]
    },
    {
      "cell_type": "code",
      "source": [
        "!javac SplitWords.java\n",
        "!java SplitWords"
      ],
      "metadata": {
        "colab": {
          "base_uri": "https://localhost:8080/"
        },
        "id": "Rg65NXQ8b8Kd",
        "outputId": "8538164e-550b-4489-a65a-436d812f5ab0"
      },
      "execution_count": null,
      "outputs": [
        {
          "output_type": "stream",
          "name": "stdout",
          "text": [
            "Java\n",
            "is\n",
            "fun\n",
            "and\n",
            "powerful\n"
          ]
        }
      ]
    },
    {
      "cell_type": "code",
      "source": [],
      "metadata": {
        "id": "eISRTPol1DSA"
      },
      "execution_count": null,
      "outputs": []
    }
  ]
}